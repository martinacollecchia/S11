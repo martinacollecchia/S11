{
 "cells": [
  {
   "cell_type": "markdown",
   "metadata": {},
   "source": [
    "# S11 - Pre-Avanzata: Oscillatore di Duffing\n",
    "\n",
    "R da 100Ohm in uscita da amplificatore R = 101.7 Ohm\n",
    "R sotto alimentazione negativa OpAmp R = 10.04 KOhm\n",
    "R uguale, accanto R = 9.99 KOhm\n",
    "\n",
    "C da 100nF realizzato mettendo in parallelo due condensatori da C = 54.30nF e C = 55.88nF \n",
    "\n",
    "R tra diodo e induttore R = 9.980 kOhm\n",
    "\n",
    "\n",
    "\n",
    "\n",
    "\n",
    "\n",
    "Win e Vc\n",
    "0.5 -1.50\n",
    "1   -2\n",
    "1.5 -2.5\n",
    "2   -2.86\n",
    "2.5 -2.75\n",
    "3   -2.758\n",
    "4\n",
    "5\n",
    "\n",
    "\n",
    "\n",
    "\n",
    "## Task 1\n",
    "Per trovare i Voltaggi di equilibrio si è mandata in ingresso al generatore un ond quadra con duty cycle 50%,  considerando dievrsi voltaggi a cui si osservato il comportamento aspettato per il sistema vicino all equilibrio, cioè un oscillatore smorzato. abbiamo \n",
    "\n",
    "il comportamento aspettato ( un oscillatore smorzato sul Vc del condensatore) si è osservato per onde quadre di diversi voltaggi, \n",
    "\n",
    "\n",
    "\n",
    "\n",
    "\n",
    "\n",
    "\n",
    "\n",
    "\n",
    "\n",
    "\n",
    "\n",
    "\n",
    "## roba con gamma\n",
    "\n",
    "gamma trovato dal fit = 0.3\n",
    "tau alpunto dopo è 1/gamma = 33.3333333\n",
    "\n",
    "quindi omega molto maggiore di gamma = 0.3"
   ]
  }
 ],
 "metadata": {
  "language_info": {
   "name": "python"
  }
 },
 "nbformat": 4,
 "nbformat_minor": 2
}
