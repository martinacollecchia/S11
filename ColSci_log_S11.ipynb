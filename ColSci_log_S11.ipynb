{
 "cells": [
  {
   "cell_type": "markdown",
   "metadata": {},
   "source": [
    "# S11 - Pre-Avanzata: Oscillatore di Duffing\n",
    "\n",
    "R da 100Ohm in uscita da amplificatore R = 101.7 Ohm\n",
    "R sotto alimentazione negativa OpAmp R = 10.04 KOhm\n",
    "R uguale, accanto R = 9.99 KOhm\n",
    "\n",
    "C da 100nF realizzato mettendo in parallelo due condensatori da C = 54.30nF e C = 55.88nF \n",
    "\n",
    "R tra diodo e induttore R = 9.980 kOhm\n",
    "\n",
    "\n",
    "\n",
    "\n",
    "\n",
    "\n",
    "Win e Vc\n",
    "0.5 -1.50\n",
    "1   -2\n",
    "1.5 -2.5\n",
    "2   -2.86\n",
    "2.5 -2.75\n",
    "3   -2.758\n",
    "4\n",
    "5"
   ]
  }
 ],
 "metadata": {
  "language_info": {
   "name": "python"
  }
 },
 "nbformat": 4,
 "nbformat_minor": 2
}
