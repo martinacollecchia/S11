{
 "cells": [
  {
   "cell_type": "markdown",
   "metadata": {},
   "source": [
    "# **Spazzata di voltaggio**\n",
    "\n",
    "Questo script esegue una spazzata lineare dal voltaggio `V0` al voltaggio `V1` con  `nV` punti. Per ogni valore l'$\\texttt{ADC}$ esegue una misura con i seguenti parametri di campionamento:\n",
    "\n",
    "* frequenza di sampling `fs`\n",
    "* numero di acquisizioni `npt`\n",
    "\n",
    "I valori risultanti di $\\texttt{Ch1}$ e $\\texttt{Ch2}$ vengono mediati e salvati."
   ]
  },
  {
   "cell_type": "code",
   "execution_count": 1,
   "metadata": {},
   "outputs": [
    {
     "name": "stdout",
     "output_type": "stream",
     "text": [
      "Digilent WaveForms SDK versione 3.22.2\n",
      "Dispositivo #1 [SN:210321AD14E6, hdwf=1] connesso!\n",
      "Configurazione #1\n"
     ]
    },
    {
     "ename": "KeyboardInterrupt",
     "evalue": "",
     "output_type": "error",
     "traceback": [
      "\u001b[1;31m---------------------------------------------------------------------------\u001b[0m",
      "\u001b[1;31mKeyboardInterrupt\u001b[0m                         Traceback (most recent call last)",
      "Cell \u001b[1;32mIn[1], line 55\u001b[0m\n\u001b[0;32m     53\u001b[0m wgen\u001b[38;5;241m.\u001b[39mw1\u001b[38;5;241m.\u001b[39moffs \u001b[38;5;241m=\u001b[39m off\u001b[38;5;241m+\u001b[39mV\n\u001b[0;32m     54\u001b[0m time\u001b[38;5;241m.\u001b[39msleep(\u001b[38;5;241m0.1\u001b[39m)\n\u001b[1;32m---> 55\u001b[0m \u001b[43mscope\u001b[49m\u001b[38;5;241;43m.\u001b[39;49m\u001b[43msample\u001b[49m\u001b[43m(\u001b[49m\u001b[43m)\u001b[49m\n\u001b[0;32m     56\u001b[0m Ch1v[ii] \u001b[38;5;241m=\u001b[39m np\u001b[38;5;241m.\u001b[39mmean(scope\u001b[38;5;241m.\u001b[39mch1\u001b[38;5;241m.\u001b[39mvals)\n\u001b[0;32m     57\u001b[0m Ch2v[ii] \u001b[38;5;241m=\u001b[39m np\u001b[38;5;241m.\u001b[39mmean(scope\u001b[38;5;241m.\u001b[39mch2\u001b[38;5;241m.\u001b[39mvals)\n",
      "File \u001b[1;32mc:\\Users\\15-cs3054nl\\AppData\\Local\\Programs\\Python\\Python312\\Lib\\site-packages\\tdwf\\analogin.py:399\u001b[0m, in \u001b[0;36mScope.sample\u001b[1;34m(self)\u001b[0m\n\u001b[0;32m    397\u001b[0m \u001b[38;5;28;01melse\u001b[39;00m:\n\u001b[0;32m    398\u001b[0m     dwf\u001b[38;5;241m.\u001b[39mFDwfAnalogInConfigure(\u001b[38;5;28mself\u001b[39m\u001b[38;5;241m.\u001b[39mhdwf, ct\u001b[38;5;241m.\u001b[39mc_bool(\u001b[38;5;28;01mFalse\u001b[39;00m), ct\u001b[38;5;241m.\u001b[39mc_bool(\u001b[38;5;28;01mTrue\u001b[39;00m))\n\u001b[1;32m--> 399\u001b[0m     \u001b[38;5;28;01mwhile\u001b[39;00m \u001b[38;5;129;01mnot\u001b[39;00m \u001b[38;5;28;43mself\u001b[39;49m\u001b[38;5;241;43m.\u001b[39;49m\u001b[43mstatus\u001b[49m\u001b[38;5;241m.\u001b[39mvalue \u001b[38;5;241m==\u001b[39m constants\u001b[38;5;241m.\u001b[39mDwfStateDone\u001b[38;5;241m.\u001b[39mvalue:\n\u001b[0;32m    400\u001b[0m         time\u001b[38;5;241m.\u001b[39msleep(\u001b[38;5;241m0.001\u001b[39m)\n\u001b[0;32m    401\u001b[0m     \u001b[38;5;28;01mif\u001b[39;00m \u001b[38;5;28mself\u001b[39m\u001b[38;5;241m.\u001b[39mch1\u001b[38;5;241m.\u001b[39m_enab:\n",
      "File \u001b[1;32mc:\\Users\\15-cs3054nl\\AppData\\Local\\Programs\\Python\\Python312\\Lib\\site-packages\\tdwf\\analogin.py:213\u001b[0m, in \u001b[0;36mScope.status\u001b[1;34m(self)\u001b[0m\n\u001b[0;32m    210\u001b[0m \u001b[38;5;129m@property\u001b[39m\n\u001b[0;32m    211\u001b[0m \u001b[38;5;28;01mdef\u001b[39;00m \u001b[38;5;21mstatus\u001b[39m(\u001b[38;5;28mself\u001b[39m) \u001b[38;5;241m-\u001b[39m\u001b[38;5;241m>\u001b[39m ct\u001b[38;5;241m.\u001b[39mc_ubyte:\n\u001b[0;32m    212\u001b[0m     tmp \u001b[38;5;241m=\u001b[39m ct\u001b[38;5;241m.\u001b[39mc_ubyte()  \n\u001b[1;32m--> 213\u001b[0m     \u001b[43mdwf\u001b[49m\u001b[38;5;241;43m.\u001b[39;49m\u001b[43mFDwfAnalogInStatus\u001b[49m\u001b[43m(\u001b[49m\u001b[38;5;28;43mself\u001b[39;49m\u001b[38;5;241;43m.\u001b[39;49m\u001b[43mhdwf\u001b[49m\u001b[43m,\u001b[49m\u001b[43m \u001b[49m\u001b[43mct\u001b[49m\u001b[38;5;241;43m.\u001b[39;49m\u001b[43mc_bool\u001b[49m\u001b[43m(\u001b[49m\u001b[38;5;28;43;01mTrue\u001b[39;49;00m\u001b[43m)\u001b[49m\u001b[43m,\u001b[49m\u001b[43m \u001b[49m\u001b[43mct\u001b[49m\u001b[38;5;241;43m.\u001b[39;49m\u001b[43mbyref\u001b[49m\u001b[43m(\u001b[49m\u001b[43mtmp\u001b[49m\u001b[43m)\u001b[49m\u001b[43m)\u001b[49m\n\u001b[0;32m    214\u001b[0m     \u001b[38;5;28;01mreturn\u001b[39;00m tmp\n",
      "\u001b[1;31mKeyboardInterrupt\u001b[0m: "
     ]
    }
   ],
   "source": [
    "import tdwf\n",
    "import matplotlib\n",
    "matplotlib.use('TkAgg')\n",
    "import matplotlib.pyplot as plt \n",
    "import numpy as np\n",
    "import time\n",
    "\n",
    "V0 = 0\n",
    "V1 = 5\n",
    "off = 0\n",
    "nV = 101\n",
    "npt = 101 \n",
    "fs  = 1e2\n",
    "flag_save = True\n",
    "filefolder = \"Caratteristiche/\"\n",
    "Vgs = 1.9\n",
    "multiplicity = 1\n",
    "filename = \"data\" + str(Vgs)[0] + str(Vgs)[2] + \"-\" + str(multiplicity)\n",
    "\n",
    "Vv = np.linspace(V0,V1,nV)\n",
    "\n",
    "# -[Configurazione AD2]--------------------------------------------------------\n",
    "#   1. Connessiene con AD2 e selezione configurazione \n",
    "ad2 = tdwf.AD2()\n",
    "#   2. Configurazione alimentatore\n",
    "ad2.vdd = +5\n",
    "ad2.vss = -5\n",
    "ad2.power(True)\n",
    "#   3. Configurazione generatori funzioni\n",
    "wgen = tdwf.WaveGen(ad2.hdwf)\n",
    "wgen.w1.func = tdwf.funcSquare\n",
    "wgen.w1.offs = off\n",
    "wgen.w1.start()\n",
    "\n",
    "wgen.w2.func = tdwf.funcDC\n",
    "wgen.w2.offs = Vgs\n",
    "wgen.w2.start()\n",
    "#   4. Configurazione oscilloscopio\n",
    "scope = tdwf.Scope(ad2.hdwf)\n",
    "scope.fs=fs\n",
    "scope.npt=npt\n",
    "scope.ch1.rng = 15\n",
    "scope.ch2.rng = 15\n",
    "\n",
    "# -[Ciclo di misura]-----------------------------------------------------------\n",
    "fig, [ax1, ax2] = plt.subplots(1, 2, figsize=(12, 6))\n",
    "fig.canvas.manager.set_window_title('Spazzata voltaggio')\n",
    "ax2.yaxis.tick_right()\n",
    "Ch1v = np.full((nV, 1), np.nan)\n",
    "Ch2v = np.full((nV, 1), np.nan)\n",
    "\n",
    "for ii, V in enumerate(Vv):\n",
    "    wgen.w1.offs = off+V\n",
    "    time.sleep(0.1)\n",
    "    scope.sample()\n",
    "    Ch1v[ii] = np.mean(scope.ch1.vals)\n",
    "    Ch2v[ii] = np.mean(scope.ch2.vals)\n",
    "\n",
    "    ax1.clear()    \n",
    "    ax1.plot(Vv, Ch1v, \".\", color=\"tab:orange\", label=\"Ch1\")\n",
    "    ax1.plot(Vv, Ch2v, \".\", color=\"tab:blue\", label=\"Ch2\")\n",
    "    ax1.grid(True)\n",
    "    ax1.set_xlabel(\"W1 [V]\", fontsize=15)\n",
    "    ax1.set_ylabel(\"Signals [V]\", fontsize=15)\n",
    "    ax1.legend()\n",
    "    \n",
    "    ax2.clear()    \n",
    "    ax2.plot(Ch1v, Ch2v, \".\", color=\"tab:orange\")\n",
    "    ax2.grid(True)\n",
    "    ax2.set_xlabel(\"Ch1 [V]\", fontsize=15)\n",
    "    ax2.set_ylabel(\"Ch2 [V]\", fontsize=15)\n",
    "    ax2.yaxis.set_label_position('right')\n",
    "    plt.tight_layout()\n",
    "    plt.show(block=False)\n",
    "    plt.pause(0.001)\n",
    "\n",
    "\n",
    "ad2.close()\n",
    "\n",
    "\n",
    "# - [Data saving]--------------------------------------------------------------\n",
    "if flag_save:\n",
    "    np.savetxt(\"../Data/\"+filefolder+filename+\".txt\", np.c_[Vv, Ch1v, Ch2v])\n",
    "    print(\"Data saved\")"
   ]
  }
 ],
 "metadata": {
  "kernelspec": {
   "display_name": "Python 3",
   "language": "python",
   "name": "python3"
  },
  "language_info": {
   "codemirror_mode": {
    "name": "ipython",
    "version": 3
   },
   "file_extension": ".py",
   "mimetype": "text/x-python",
   "name": "python",
   "nbconvert_exporter": "python",
   "pygments_lexer": "ipython3",
   "version": "3.12.6"
  }
 },
 "nbformat": 4,
 "nbformat_minor": 4
}
